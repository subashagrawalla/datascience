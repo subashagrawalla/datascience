{
 "cells": [
  {
   "cell_type": "markdown",
   "metadata": {},
   "source": [
    "<center>\n",
    "    <img src=\"https://s3-api.us-geo.objectstorage.softlayer.net/cf-courses-data/CognitiveClass/Logos/organization_logo/organization_logo.png\" width=\"300\" alt=\"cognitiveclass.ai logo\"  />\n",
    "</center>\n"
   ]
  },
  {
   "cell_type": "markdown",
   "metadata": {},
   "source": [
    "#### Add your code below following the instructions given in the course\n"
   ]
  },
  {
   "cell_type": "markdown",
   "metadata": {},
   "source": [
    "# My Jupyter Notebook on IBM Watson Studio"
   ]
  },
  {
   "cell_type": "markdown",
   "metadata": {},
   "source": [
    "**Subash agrawalla**\n",
    "\n",
    "current - Data engineering manager <br>\n",
    "Desired - Data science manager"
   ]
  },
  {
   "cell_type": "markdown",
   "metadata": {},
   "source": [
    "*I am interested in data science as this is a hot trend right now. The topic is really interesting as it allows you to predict the outcome based on sample data.*"
   ]
  },
  {
   "cell_type": "markdown",
   "metadata": {},
   "source": [
    "### print my name"
   ]
  },
  {
   "cell_type": "code",
   "execution_count": 3,
   "metadata": {},
   "outputs": [
    {
     "name": "stdout",
     "output_type": "stream",
     "text": [
      "Subash Agrawalla\n"
     ]
    }
   ],
   "source": [
    "print (\"Subash Agrawalla\")"
   ]
  },
  {
   "attachments": {
    "coursera%20logo.png": {
     "image/png": "[encoded data removed]"
    }
   },
   "cell_type": "markdown",
   "metadata": {},
   "source": [
    "Bullets\n",
    "- bullet1\n",
    "- bullet2\n",
    "    - sub-bullet1\n",
    "    - sub-bullet2\n",
    "\n",
    "Numbered list\n",
    "1. number1\n",
    "2. number2\n",
    "    1. sub-number1\n",
    "    2. sub-number2\n",
    "\n",
    "Image\n",
    "![coursera%20logo.png](attachment:coursera%20logo.png)\n",
    "\n",
    "\n",
    "\n",
    "Links <br>\n",
    "[click here to google](https://www.google.com/)\n",
    "\n",
    "\n",
    "Strikethrough<br>\n",
    "~~Remove this line~~\n",
    "\n",
    "\n",
    "Blockquote<br>\n",
    "<blockquote>\n",
    "    This is a blockquote \n",
    "</blockquote>\n",
    "\n"
   ]
  }
 ],
 "metadata": {
  "kernelspec": {
   "display_name": "Python 3",
   "language": "python",
   "name": "python3"
  },
  "language_info": {
   "codemirror_mode": {
    "name": "ipython",
    "version": 3
   },
   "file_extension": ".py",
   "mimetype": "text/x-python",
   "name": "python",
   "nbconvert_exporter": "python",
   "pygments_lexer": "ipython3",
   "version": "3.7.6"
  }
 },
 "nbformat": 4,
 "nbformat_minor": 4
}
